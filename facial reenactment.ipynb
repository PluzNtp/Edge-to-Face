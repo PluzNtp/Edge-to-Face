{
  "nbformat": 4,
  "nbformat_minor": 0,
  "metadata": {
    "colab": {
      "name": "your face is now mine gans.ipynb",
      "provenance": [],
      "collapsed_sections": [],
      "authorship_tag": "ABX9TyOnm/ZEatysO07zcFpMBuOQ",
      "include_colab_link": true
    },
    "kernelspec": {
      "name": "python3",
      "display_name": "Python 3"
    },
    "language_info": {
      "name": "python"
    },
    "accelerator": "GPU"
  },
  "cells": [
    {
      "cell_type": "markdown",
      "metadata": {
        "id": "view-in-github",
        "colab_type": "text"
      },
      "source": [
        "<a href=\"https://colab.research.google.com/github/PluzNtp/Gans-Data/blob/main/facial%20reenactment.ipynb\" target=\"_parent\"><img src=\"https://colab.research.google.com/assets/colab-badge.svg\" alt=\"Open In Colab\"/></a>"
      ]
    },
    {
      "cell_type": "code",
      "source": [
        "!git clone https://github.com/PluzNtp/Gans-Data\n",
        "!pip install dlib\n",
        "!pip install --upgrade imutils\n",
        "!pip install mediapipe\n",
        "!pip install torch\n",
        "!wget https://pyimagesearch-code-downloads.s3-us-west-2.amazonaws.com/facial-landmarks/facial-landmarks.zip\n",
        "%cd facial-landmarks\n",
        "!pip install parts"
      ],
      "metadata": {
        "colab": {
          "base_uri": "https://localhost:8080/"
        },
        "id": "T7Tl90wgKVW3",
        "outputId": "9f406b16-2d11-4cf2-d463-189e8504115f"
      },
      "execution_count": null,
      "outputs": [
        {
          "output_type": "stream",
          "name": "stdout",
          "text": [
            "Cloning into 'Gans-Data'...\n",
            "remote: Enumerating objects: 58, done.\u001b[K\n",
            "remote: Counting objects: 100% (58/58), done.\u001b[K\n",
            "remote: Compressing objects: 100% (54/54), done.\u001b[K\n",
            "remote: Total 58 (delta 17), reused 3 (delta 0), pack-reused 0\u001b[K\n",
            "Unpacking objects: 100% (58/58), done.\n",
            "Looking in indexes: https://pypi.org/simple, https://us-python.pkg.dev/colab-wheels/public/simple/\n",
            "Requirement already satisfied: dlib in /usr/local/lib/python3.7/dist-packages (19.18.0+zzzcolab20220513001918)\n",
            "Looking in indexes: https://pypi.org/simple, https://us-python.pkg.dev/colab-wheels/public/simple/\n",
            "Requirement already satisfied: imutils in /usr/local/lib/python3.7/dist-packages (0.5.4)\n",
            "Looking in indexes: https://pypi.org/simple, https://us-python.pkg.dev/colab-wheels/public/simple/\n",
            "Collecting mediapipe\n",
            "  Downloading mediapipe-0.8.10-cp37-cp37m-manylinux_2_17_x86_64.manylinux2014_x86_64.whl (32.8 MB)\n",
            "\u001b[K     |████████████████████████████████| 32.8 MB 168 kB/s \n",
            "\u001b[?25hRequirement already satisfied: attrs>=19.1.0 in /usr/local/lib/python3.7/dist-packages (from mediapipe) (21.4.0)\n",
            "Requirement already satisfied: opencv-contrib-python in /usr/local/lib/python3.7/dist-packages (from mediapipe) (4.1.2.30)\n",
            "Requirement already satisfied: protobuf>=3.11.4 in /usr/local/lib/python3.7/dist-packages (from mediapipe) (3.17.3)\n",
            "Requirement already satisfied: numpy in /usr/local/lib/python3.7/dist-packages (from mediapipe) (1.21.6)\n",
            "Requirement already satisfied: absl-py in /usr/local/lib/python3.7/dist-packages (from mediapipe) (1.0.0)\n",
            "Requirement already satisfied: matplotlib in /usr/local/lib/python3.7/dist-packages (from mediapipe) (3.2.2)\n",
            "Requirement already satisfied: six>=1.9 in /usr/local/lib/python3.7/dist-packages (from protobuf>=3.11.4->mediapipe) (1.15.0)\n",
            "Requirement already satisfied: kiwisolver>=1.0.1 in /usr/local/lib/python3.7/dist-packages (from matplotlib->mediapipe) (1.4.2)\n",
            "Requirement already satisfied: pyparsing!=2.0.4,!=2.1.2,!=2.1.6,>=2.0.1 in /usr/local/lib/python3.7/dist-packages (from matplotlib->mediapipe) (3.0.9)\n",
            "Requirement already satisfied: cycler>=0.10 in /usr/local/lib/python3.7/dist-packages (from matplotlib->mediapipe) (0.11.0)\n",
            "Requirement already satisfied: python-dateutil>=2.1 in /usr/local/lib/python3.7/dist-packages (from matplotlib->mediapipe) (2.8.2)\n",
            "Requirement already satisfied: typing-extensions in /usr/local/lib/python3.7/dist-packages (from kiwisolver>=1.0.1->matplotlib->mediapipe) (4.2.0)\n",
            "Installing collected packages: mediapipe\n",
            "Successfully installed mediapipe-0.8.10\n",
            "Looking in indexes: https://pypi.org/simple, https://us-python.pkg.dev/colab-wheels/public/simple/\n",
            "Requirement already satisfied: torch in /usr/local/lib/python3.7/dist-packages (1.11.0+cu113)\n",
            "Requirement already satisfied: typing-extensions in /usr/local/lib/python3.7/dist-packages (from torch) (4.2.0)\n",
            "--2022-06-06 11:44:13--  https://pyimagesearch-code-downloads.s3-us-west-2.amazonaws.com/facial-landmarks/facial-landmarks.zip\n",
            "Resolving pyimagesearch-code-downloads.s3-us-west-2.amazonaws.com (pyimagesearch-code-downloads.s3-us-west-2.amazonaws.com)... 52.92.193.74\n",
            "Connecting to pyimagesearch-code-downloads.s3-us-west-2.amazonaws.com (pyimagesearch-code-downloads.s3-us-west-2.amazonaws.com)|52.92.193.74|:443... connected.\n",
            "HTTP request sent, awaiting response... 200 OK\n",
            "Length: 74572347 (71M) [binary/octet-stream]\n",
            "Saving to: ‘facial-landmarks.zip’\n",
            "\n",
            "facial-landmarks.zi 100%[===================>]  71.12M  30.9MB/s    in 2.3s    \n",
            "\n",
            "2022-06-06 11:44:15 (30.9 MB/s) - ‘facial-landmarks.zip’ saved [74572347/74572347]\n",
            "\n",
            "[Errno 2] No such file or directory: 'facial-landmarks'\n",
            "/content\n",
            "Looking in indexes: https://pypi.org/simple, https://us-python.pkg.dev/colab-wheels/public/simple/\n",
            "Collecting parts\n",
            "  Downloading parts-1.3.0-py3-none-any.whl (6.9 kB)\n",
            "Installing collected packages: parts\n",
            "Successfully installed parts-1.3.0\n"
          ]
        }
      ]
    },
    {
      "cell_type": "code",
      "source": [
        "from google.colab import drive\n",
        "drive.mount('/content/drive')"
      ],
      "metadata": {
        "colab": {
          "base_uri": "https://localhost:8080/"
        },
        "id": "_GbhN5sa7SUX",
        "outputId": "a0043537-d83b-4c5d-b1d3-d41bb88d975b"
      },
      "execution_count": null,
      "outputs": [
        {
          "output_type": "stream",
          "name": "stdout",
          "text": [
            "Mounted at /content/drive\n"
          ]
        }
      ]
    },
    {
      "cell_type": "code",
      "source": [
        "import torch \n",
        "import torch.nn as nn\n",
        "import torch.optim as optim \n",
        "import torchvision \n",
        "from  torchvision import transforms\n",
        "import torchvision.datasets as datasets  \n",
        "from torch.utils.data import Dataset\n",
        "from torch.utils.data import DataLoader\n",
        "from torchvision.transforms import ToTensor\n",
        "import cv2 \n",
        "import os # for file path \n",
        "import sys\n",
        "import dlib\n",
        "import numpy as np #to open npz files \n",
        "from numpy import load\n",
        "from matplotlib import pyplot as plt #for showing image \n",
        "import glob # for reading file in folder \n",
        "from imutils import face_utils\n",
        "from torchvision import datasets, models, transforms\n",
        "import imutils\n",
        "import argparse\n",
        "import mediapipe as mp\n",
        "from scipy.spatial import distance\n",
        "from torchvision.io import read_image\n",
        "from google.colab.patches import cv2_imshow\n"
      ],
      "metadata": {
        "id": "WgjeJhQZXkY5"
      },
      "execution_count": null,
      "outputs": []
    },
    {
      "cell_type": "markdown",
      "source": [
        "File path (testing)"
      ],
      "metadata": {
        "id": "VAm7GA5IA004"
      }
    },
    {
      "cell_type": "code",
      "source": [
        "#Run to resize images by half\n",
        "#(int(img.shape[0]/2))"
      ],
      "metadata": {
        "id": "wL1DJK52OKg7"
      },
      "execution_count": null,
      "outputs": []
    },
    {
      "cell_type": "code",
      "source": [
        "# #run to show image in colab \n",
        "# plt.imshow(img) \n",
        "# rgb_img = cv.cvtColor(img,cv.COLOR_BGR2RGB)\n",
        "# cv2_imshow(rgb_img)"
      ],
      "metadata": {
        "id": "bVwepfn0JEno"
      },
      "execution_count": null,
      "outputs": []
    },
    {
      "cell_type": "code",
      "source": [
        "# gray_imgs = cv.cvtColor(img,cv.COLOR_BGR2GRAY)\n",
        "# plt.imshow(gray_imgs)\n",
        "# #grayscale"
      ],
      "metadata": {
        "id": "lDqwz_3-EWfF"
      },
      "execution_count": null,
      "outputs": []
    },
    {
      "cell_type": "markdown",
      "source": [
        "Face detection picture"
      ],
      "metadata": {
        "id": "7vcF-58Z3Fxx"
      }
    },
    {
      "cell_type": "code",
      "source": [
        "# FaceCascade = cv.CascadeClassifier('/content/Gans-Data/haarcascades/haarcascade_frontalface_alt.xml')"
      ],
      "metadata": {
        "id": "dwMJ0oCf7-FZ"
      },
      "execution_count": null,
      "outputs": []
    },
    {
      "cell_type": "code",
      "source": [
        "# face = FaceCascade.detectMultiScale( gray_imgs,scaleFactor = 1.1,minNeighbors = 10,)\n",
        "# print (face)"
      ],
      "metadata": {
        "id": "xrAdQgpm43ms"
      },
      "execution_count": null,
      "outputs": []
    },
    {
      "cell_type": "code",
      "source": [
        "# for (x,y,w,h) in face:  \n",
        "#   cv.rectangle(img,(x,y),(x+w,y+h),(255,0,0),20)  #draw ze face\n",
        "# Detected_img = cv.cvtColor(img,cv.COLOR_BGR2RGB)\n",
        "# cv2_imshow(Detected_img)\n"
      ],
      "metadata": {
        "id": "ImQA0G6fgpNj"
      },
      "execution_count": null,
      "outputs": []
    },
    {
      "cell_type": "code",
      "source": [
        "# imgcrop=[]  # facecroped\n",
        "# for (x,y,w,h) in face:\n",
        "#   crop = Detected_img  [y:y+h,x:x+w ]\n",
        "#   imgcrop.append(crop)\n",
        "# plt.imshow(imgcrop[0]) "
      ],
      "metadata": {
        "id": "0LPKUMCBtvpG"
      },
      "execution_count": null,
      "outputs": []
    },
    {
      "cell_type": "code",
      "source": [
        "# face_edge = cv.Canny(imgcrop[0], threshold1 =  180 , threshold2 = 200 ) #edge detection using canny \n",
        "# plt.imshow(face_edge)"
      ],
      "metadata": {
        "id": "t8og_G7btHJF"
      },
      "execution_count": null,
      "outputs": []
    },
    {
      "cell_type": "markdown",
      "source": [
        "video "
      ],
      "metadata": {
        "id": "ALut7lWktk51"
      }
    },
    {
      "cell_type": "code",
      "source": [
        "# vid_path = '/content/(300) Millie Bobby Brown Talks Stranger Things & Challenges Jimmy to a Fruit by the Foot Race - YouTube - Google Chrome 2022-05-16 21-32-03_Trim.mp4'\n",
        "# cap = cv.VideoCapture(vid_path)\n",
        "# fps = int(cap.get(cv.CAP_PROP_FPS))\n",
        "# print(f'fps {fps}')\n",
        "\n",
        "# frame_id = 0\n",
        "# while (True):\n",
        "#   ret, frame = cap.read()\n",
        "#   frame_id += 1\n",
        "#   print(f'frame {frame_id} status {ret}')\n",
        "#   gray = cv.cvtColor(frame , cv.COLOR_BGR2GRAY)\n",
        "#   faces = FaceCascade.detectMultiScale(gray,scaleFactor = 1.1, minNeighbors =  5 )\n",
        "#   for (x,y,w,h) in faces:\n",
        "#     print(x,y,w,h)\n",
        "#     roi_gray = gray[y:y+h, x:x+w]\n",
        "#     roi_color = frame[y:y+h, x:x+w]\n",
        "#     img_item  = f'{vid_path[:-4]}_f{frame_id:03d}.jpg'\n",
        "#     cv.imwrite(img_item, roi_gray)\n",
        "#     print(f'wrote to {img_item}')\n",
        "  \n",
        "#   if cv.waitKey(20)& 0xFF  == ord('q'):\n",
        "#     break\n",
        "# cap.release()"
      ],
      "metadata": {
        "id": "LHiSHqhS-tDK"
      },
      "execution_count": null,
      "outputs": []
    },
    {
      "cell_type": "code",
      "source": [
        ""
      ],
      "metadata": {
        "id": "pXQHNnV6wFyx"
      },
      "execution_count": null,
      "outputs": []
    },
    {
      "cell_type": "markdown",
      "source": [
        "**Preparing Data** (run only when propping data) \n",
        "cover and shift / "
      ],
      "metadata": {
        "id": "7XPTQFFFP-9J"
      }
    },
    {
      "cell_type": "code",
      "source": [
        "# items = os.listdir('/content/drive/MyDrive/face data/')\n",
        "# img_dir = '/content/drive/MyDrive/face data/'"
      ],
      "metadata": {
        "id": "h9vCUccAnt_0"
      },
      "execution_count": null,
      "outputs": []
    },
    {
      "cell_type": "code",
      "source": [
        "items = os.listdir('/content/drive/MyDrive/DATA2')\n",
        "img_dir = '/content/drive/MyDrive/DATA2'"
      ],
      "metadata": {
        "id": "kr-acEL5KGsb"
      },
      "execution_count": null,
      "outputs": []
    },
    {
      "cell_type": "code",
      "source": [
        "glob.glob?\n",
        "\n",
        "# glob.glob returns a list of paths matching a pathname *pattern*\n",
        "before = glob.glob(img_dir)\n",
        "\n",
        "# what you need is a regular expression \n",
        "img_file_pattern = os.path.join(img_dir, '*.png')\n",
        "after = glob.glob(img_file_pattern)\n",
        "\n",
        "print(f'before {img_dir}: ', before)\n",
        "print(f'after {img_file_pattern}:', after)\n"
      ],
      "metadata": {
        "id": "orsEcROfUYhx",
        "colab": {
          "base_uri": "https://localhost:8080/"
        },
        "outputId": "3cd10f01-bfca-4a62-a91c-c5486aa63538"
      },
      "execution_count": null,
      "outputs": [
        {
          "output_type": "stream",
          "name": "stdout",
          "text": [
            "before /content/drive/MyDrive/DATA2:  ['/content/drive/MyDrive/DATA2']\n",
            "after /content/drive/MyDrive/DATA2/*.png: ['/content/drive/MyDrive/DATA2/69884.png', '/content/drive/MyDrive/DATA2/69885.png', '/content/drive/MyDrive/DATA2/69888.png', '/content/drive/MyDrive/DATA2/69907.png', '/content/drive/MyDrive/DATA2/69901.png', '/content/drive/MyDrive/DATA2/69898.png', '/content/drive/MyDrive/DATA2/69916.png', '/content/drive/MyDrive/DATA2/69889.png', '/content/drive/MyDrive/DATA2/69917.png', '/content/drive/MyDrive/DATA2/69887.png', '/content/drive/MyDrive/DATA2/69903.png', '/content/drive/MyDrive/DATA2/69908.png', '/content/drive/MyDrive/DATA2/69910.png', '/content/drive/MyDrive/DATA2/69891.png', '/content/drive/MyDrive/DATA2/69909.png', '/content/drive/MyDrive/DATA2/69904.png', '/content/drive/MyDrive/DATA2/69906.png', '/content/drive/MyDrive/DATA2/69913.png', '/content/drive/MyDrive/DATA2/69899.png', '/content/drive/MyDrive/DATA2/69890.png', '/content/drive/MyDrive/DATA2/69895.png', '/content/drive/MyDrive/DATA2/69900.png', '/content/drive/MyDrive/DATA2/69892.png', '/content/drive/MyDrive/DATA2/69914.png', '/content/drive/MyDrive/DATA2/69911.png', '/content/drive/MyDrive/DATA2/69897.png', '/content/drive/MyDrive/DATA2/69912.png', '/content/drive/MyDrive/DATA2/69893.png', '/content/drive/MyDrive/DATA2/69915.png', '/content/drive/MyDrive/DATA2/69896.png', '/content/drive/MyDrive/DATA2/69894.png', '/content/drive/MyDrive/DATA2/69883.png', '/content/drive/MyDrive/DATA2/69902.png', '/content/drive/MyDrive/DATA2/69905.png', '/content/drive/MyDrive/DATA2/69926.png', '/content/drive/MyDrive/DATA2/69932.png', '/content/drive/MyDrive/DATA2/69929.png', '/content/drive/MyDrive/DATA2/69969.png', '/content/drive/MyDrive/DATA2/69999.png', '/content/drive/MyDrive/DATA2/69995.png', '/content/drive/MyDrive/DATA2/69961.png', '/content/drive/MyDrive/DATA2/69948.png', '/content/drive/MyDrive/DATA2/69946.png', '/content/drive/MyDrive/DATA2/69939.png', '/content/drive/MyDrive/DATA2/69972.png', '/content/drive/MyDrive/DATA2/69983.png', '/content/drive/MyDrive/DATA2/69958.png', '/content/drive/MyDrive/DATA2/69935.png', '/content/drive/MyDrive/DATA2/69941.png', '/content/drive/MyDrive/DATA2/69933.png', '/content/drive/MyDrive/DATA2/69964.png', '/content/drive/MyDrive/DATA2/69920.png', '/content/drive/MyDrive/DATA2/69924.png', '/content/drive/MyDrive/DATA2/69997.png', '/content/drive/MyDrive/DATA2/69967.png', '/content/drive/MyDrive/DATA2/69918.png', '/content/drive/MyDrive/DATA2/69979.png', '/content/drive/MyDrive/DATA2/69976.png', '/content/drive/MyDrive/DATA2/69986.png', '/content/drive/MyDrive/DATA2/69984.png', '/content/drive/MyDrive/DATA2/69925.png', '/content/drive/MyDrive/DATA2/69937.png', '/content/drive/MyDrive/DATA2/69934.png', '/content/drive/MyDrive/DATA2/69947.png', '/content/drive/MyDrive/DATA2/69928.png', '/content/drive/MyDrive/DATA2/69922.png', '/content/drive/MyDrive/DATA2/69955.png', '/content/drive/MyDrive/DATA2/69966.png', '/content/drive/MyDrive/DATA2/69962.png', '/content/drive/MyDrive/DATA2/69980.png', '/content/drive/MyDrive/DATA2/69954.png', '/content/drive/MyDrive/DATA2/69943.png', '/content/drive/MyDrive/DATA2/69923.png', '/content/drive/MyDrive/DATA2/69985.png', '/content/drive/MyDrive/DATA2/69949.png', '/content/drive/MyDrive/DATA2/69965.png', '/content/drive/MyDrive/DATA2/69968.png', '/content/drive/MyDrive/DATA2/69974.png', '/content/drive/MyDrive/DATA2/69938.png', '/content/drive/MyDrive/DATA2/69996.png', '/content/drive/MyDrive/DATA2/69990.png', '/content/drive/MyDrive/DATA2/69975.png', '/content/drive/MyDrive/DATA2/69978.png', '/content/drive/MyDrive/DATA2/69993.png', '/content/drive/MyDrive/DATA2/69994.png', '/content/drive/MyDrive/DATA2/69940.png', '/content/drive/MyDrive/DATA2/69960.png', '/content/drive/MyDrive/DATA2/69919.png', '/content/drive/MyDrive/DATA2/69971.png', '/content/drive/MyDrive/DATA2/69992.png', '/content/drive/MyDrive/DATA2/69963.png', '/content/drive/MyDrive/DATA2/69982.png', '/content/drive/MyDrive/DATA2/69936.png', '/content/drive/MyDrive/DATA2/69950.png', '/content/drive/MyDrive/DATA2/69930.png', '/content/drive/MyDrive/DATA2/69952.png', '/content/drive/MyDrive/DATA2/69988.png', '/content/drive/MyDrive/DATA2/69956.png', '/content/drive/MyDrive/DATA2/69957.png', '/content/drive/MyDrive/DATA2/69989.png', '/content/drive/MyDrive/DATA2/69927.png', '/content/drive/MyDrive/DATA2/69953.png', '/content/drive/MyDrive/DATA2/69977.png', '/content/drive/MyDrive/DATA2/69921.png', '/content/drive/MyDrive/DATA2/69944.png', '/content/drive/MyDrive/DATA2/69970.png', '/content/drive/MyDrive/DATA2/69987.png', '/content/drive/MyDrive/DATA2/69959.png', '/content/drive/MyDrive/DATA2/69931.png', '/content/drive/MyDrive/DATA2/69991.png', '/content/drive/MyDrive/DATA2/69973.png', '/content/drive/MyDrive/DATA2/69942.png', '/content/drive/MyDrive/DATA2/69998.png', '/content/drive/MyDrive/DATA2/69945.png', '/content/drive/MyDrive/DATA2/69981.png', '/content/drive/MyDrive/DATA2/69951.png']\n"
          ]
        }
      ]
    },
    {
      "cell_type": "code",
      "source": [
        "all_img = []\n",
        "for img in glob.glob(img_file_pattern):\n",
        "    n = cv2.imread(img)\n",
        "    rgb_img = cv2.cvtColor(n,cv2.COLOR_BGR2RGB)\n",
        "    all_img.append(rgb_img)\n",
        "\n",
        "print(f'read {len(all_img)} images')"
      ],
      "metadata": {
        "id": "7cEYwNbFB7dR",
        "colab": {
          "base_uri": "https://localhost:8080/"
        },
        "outputId": "fbdf311d-b759-4823-9a37-2c73300bd377"
      },
      "execution_count": null,
      "outputs": [
        {
          "output_type": "stream",
          "name": "stdout",
          "text": [
            "read 116 images\n"
          ]
        }
      ]
    },
    {
      "cell_type": "code",
      "source": [
        "#250 x #250"
      ],
      "metadata": {
        "id": "lDsbUK2dRbGr"
      },
      "execution_count": null,
      "outputs": []
    },
    {
      "cell_type": "code",
      "source": [
        "plt.imshow(all_img[1]) # still in BGR mode, convert ot RGB for accurate presentation"
      ],
      "metadata": {
        "id": "mDn2Cxyf6q71",
        "colab": {
          "base_uri": "https://localhost:8080/",
          "height": 285
        },
        "outputId": "61a6d380-5d89-4d14-e67b-07a600c06372"
      },
      "execution_count": null,
      "outputs": [
        {
          "output_type": "execute_result",
          "data": {
            "text/plain": [
              "<matplotlib.image.AxesImage at 0x7f329a5f5bd0>"
            ]
          },
          "metadata": {},
          "execution_count": 14
        },
        {
          "output_type": "display_data",
          "data": {
            "text/plain": [
              "<Figure size 432x288 with 1 Axes>"
            ],
            "image/png": "[encoded data removed]"
          },
          "metadata": {
            "needs_background": "light"
          }
        }
      ]
    },
    {
      "cell_type": "code",
      "source": [
        "FaceCascade = cv2.CascadeClassifier('/content/Gans-Data/haarcascades/haarcascade_frontalface_alt.xml')"
      ],
      "metadata": {
        "id": "i-5Ow7Aidjii"
      },
      "execution_count": null,
      "outputs": []
    },
    {
      "cell_type": "code",
      "source": [
        "detector = dlib.get_frontal_face_detector()\n",
        "predictor = dlib.shape_predictor('/content/drive/MyDrive/shape_predictor_68_face_landmarks.dat')"
      ],
      "metadata": {
        "id": "r7G2D1bVBDN6"
      },
      "execution_count": null,
      "outputs": []
    },
    {
      "cell_type": "code",
      "source": [
        "mp_drawing = mp.solutions.drawing_utils \n",
        "drawing_spec = mp_drawing.DrawingSpec(thickness=2, circle_radius=1)\n",
        "mp_face_mesh = mp.solutions.face_mesh"
      ],
      "metadata": {
        "id": "9y3jOz8FmUXO"
      },
      "execution_count": null,
      "outputs": []
    },
    {
      "cell_type": "code",
      "source": [
        "i = 0\n",
        "\n",
        "for img in glob.glob(img_file_pattern):\n",
        "  print(img)\n",
        "  read = cv2.imread(img)\n",
        "  gray =  cv2.cvtColor(read,cv2.COLOR_BGR2GRAY)\n",
        "  face = FaceCascade.detectMultiScale(gray,scaleFactor = 1.2,minNeighbors = 3,)\n",
        "  try:\n",
        "    for (x,y,w,h) in face:\n",
        "      crop = read[y:y+h,x:x+w ]\n",
        "    resized = cv2.resize(crop,(600,600))\n",
        "    black = np.zeros(resized.shape , np.uint8)\n",
        "    with mp_face_mesh.FaceMesh(\n",
        "    static_image_mode=True,\n",
        "    max_num_faces=2,\n",
        "    min_detection_confidence=0.5) as face_mesh:\n",
        "         results = face_mesh.process(cv2.cvtColor(resized, cv2.COLOR_BGR2RGB))\n",
        "    annotated_image = black.copy()\n",
        "    for face_landmarks in results.multi_face_landmarks:\n",
        "      mp_drawing.draw_landmarks(\n",
        "          image=annotated_image,\n",
        "          landmark_list=face_landmarks,\n",
        "          connections=mp_face_mesh.FACEMESH_CONTOURS,\n",
        "          landmark_drawing_spec=drawing_spec,\n",
        "          connection_drawing_spec=drawing_spec)\n",
        "      cv2.imwrite(\"/content/drive/MyDrive/Datajoin/A/test/\"+str(i)+\".jpg\",annotated_image)\n",
        "      cv2.imwrite(\"/content/drive/MyDrive/Datajoin/B/test/\"+str(i)+\".jpg\",resized)\n",
        "      i+=1\n",
        "  except:\n",
        "        print(\"noface\")\n"
      ],
      "metadata": {
        "id": "NIfdnAE3MKpw"
      },
      "execution_count": null,
      "outputs": []
    },
    {
      "cell_type": "code",
      "source": [
        ""
      ],
      "metadata": {
        "id": "ktyCWjU_VKcj"
      },
      "execution_count": null,
      "outputs": []
    },
    {
      "cell_type": "markdown",
      "source": [
        "**Transfer** **Learning**"
      ],
      "metadata": {
        "id": "UrPoFnLUad2z"
      }
    },
    {
      "cell_type": "code",
      "source": [
        "!git clone https://github.com/junyanz/pytorch-CycleGAN-and-pix2pix"
      ],
      "metadata": {
        "id": "rvN9wAqMe7xN",
        "colab": {
          "base_uri": "https://localhost:8080/"
        },
        "outputId": "8304f9a8-5350-4958-f074-9f62c411720f"
      },
      "execution_count": null,
      "outputs": [
        {
          "output_type": "stream",
          "name": "stdout",
          "text": [
            "Cloning into 'pytorch-CycleGAN-and-pix2pix'...\n",
            "remote: Enumerating objects: 2447, done.\u001b[K\n",
            "remote: Total 2447 (delta 0), reused 0 (delta 0), pack-reused 2447\u001b[K\n",
            "Receiving objects: 100% (2447/2447), 8.18 MiB | 32.09 MiB/s, done.\n",
            "Resolving deltas: 100% (1535/1535), done.\n"
          ]
        }
      ]
    },
    {
      "cell_type": "code",
      "source": [
        "!pip install -r /content/pytorch-CycleGAN-and-pix2pix/requirements.txt"
      ],
      "metadata": {
        "id": "sFxzh3Z8e7pd",
        "colab": {
          "base_uri": "https://localhost:8080/"
        },
        "outputId": "3883ed86-308b-4ef7-c451-534239b94fa9"
      },
      "execution_count": null,
      "outputs": [
        {
          "output_type": "stream",
          "name": "stdout",
          "text": [
            "Looking in indexes: https://pypi.org/simple, https://us-python.pkg.dev/colab-wheels/public/simple/\n",
            "Requirement already satisfied: torch>=1.4.0 in /usr/local/lib/python3.7/dist-packages (from -r /content/pytorch-CycleGAN-and-pix2pix/requirements.txt (line 1)) (1.11.0+cu113)\n",
            "Requirement already satisfied: torchvision>=0.5.0 in /usr/local/lib/python3.7/dist-packages (from -r /content/pytorch-CycleGAN-and-pix2pix/requirements.txt (line 2)) (0.12.0+cu113)\n",
            "Requirement already satisfied: dominate>=2.4.0 in /usr/local/lib/python3.7/dist-packages (from -r /content/pytorch-CycleGAN-and-pix2pix/requirements.txt (line 3)) (2.6.0)\n",
            "Requirement already satisfied: visdom>=0.1.8.8 in /usr/local/lib/python3.7/dist-packages (from -r /content/pytorch-CycleGAN-and-pix2pix/requirements.txt (line 4)) (0.1.8.9)\n",
            "Requirement already satisfied: wandb in /usr/local/lib/python3.7/dist-packages (from -r /content/pytorch-CycleGAN-and-pix2pix/requirements.txt (line 5)) (0.12.17)\n",
            "Requirement already satisfied: typing-extensions in /usr/local/lib/python3.7/dist-packages (from torch>=1.4.0->-r /content/pytorch-CycleGAN-and-pix2pix/requirements.txt (line 1)) (4.2.0)\n",
            "Requirement already satisfied: numpy in /usr/local/lib/python3.7/dist-packages (from torchvision>=0.5.0->-r /content/pytorch-CycleGAN-and-pix2pix/requirements.txt (line 2)) (1.21.6)\n",
            "Requirement already satisfied: requests in /usr/local/lib/python3.7/dist-packages (from torchvision>=0.5.0->-r /content/pytorch-CycleGAN-and-pix2pix/requirements.txt (line 2)) (2.23.0)\n",
            "Requirement already satisfied: pillow!=8.3.*,>=5.3.0 in /usr/local/lib/python3.7/dist-packages (from torchvision>=0.5.0->-r /content/pytorch-CycleGAN-and-pix2pix/requirements.txt (line 2)) (7.1.2)\n",
            "Requirement already satisfied: six in /usr/local/lib/python3.7/dist-packages (from visdom>=0.1.8.8->-r /content/pytorch-CycleGAN-and-pix2pix/requirements.txt (line 4)) (1.15.0)\n",
            "Requirement already satisfied: jsonpatch in /usr/local/lib/python3.7/dist-packages (from visdom>=0.1.8.8->-r /content/pytorch-CycleGAN-and-pix2pix/requirements.txt (line 4)) (1.32)\n",
            "Requirement already satisfied: tornado in /usr/local/lib/python3.7/dist-packages (from visdom>=0.1.8.8->-r /content/pytorch-CycleGAN-and-pix2pix/requirements.txt (line 4)) (5.1.1)\n",
            "Requirement already satisfied: torchfile in /usr/local/lib/python3.7/dist-packages (from visdom>=0.1.8.8->-r /content/pytorch-CycleGAN-and-pix2pix/requirements.txt (line 4)) (0.1.0)\n",
            "Requirement already satisfied: websocket-client in /usr/local/lib/python3.7/dist-packages (from visdom>=0.1.8.8->-r /content/pytorch-CycleGAN-and-pix2pix/requirements.txt (line 4)) (1.3.2)\n",
            "Requirement already satisfied: pyzmq in /usr/local/lib/python3.7/dist-packages (from visdom>=0.1.8.8->-r /content/pytorch-CycleGAN-and-pix2pix/requirements.txt (line 4)) (23.0.0)\n",
            "Requirement already satisfied: scipy in /usr/local/lib/python3.7/dist-packages (from visdom>=0.1.8.8->-r /content/pytorch-CycleGAN-and-pix2pix/requirements.txt (line 4)) (1.4.1)\n",
            "Requirement already satisfied: docker-pycreds>=0.4.0 in /usr/local/lib/python3.7/dist-packages (from wandb->-r /content/pytorch-CycleGAN-and-pix2pix/requirements.txt (line 5)) (0.4.0)\n",
            "Requirement already satisfied: Click!=8.0.0,>=7.0 in /usr/local/lib/python3.7/dist-packages (from wandb->-r /content/pytorch-CycleGAN-and-pix2pix/requirements.txt (line 5)) (7.1.2)\n",
            "Requirement already satisfied: shortuuid>=0.5.0 in /usr/local/lib/python3.7/dist-packages (from wandb->-r /content/pytorch-CycleGAN-and-pix2pix/requirements.txt (line 5)) (1.0.9)\n",
            "Requirement already satisfied: promise<3,>=2.0 in /usr/local/lib/python3.7/dist-packages (from wandb->-r /content/pytorch-CycleGAN-and-pix2pix/requirements.txt (line 5)) (2.3)\n",
            "Requirement already satisfied: GitPython>=1.0.0 in /usr/local/lib/python3.7/dist-packages (from wandb->-r /content/pytorch-CycleGAN-and-pix2pix/requirements.txt (line 5)) (3.1.27)\n",
            "Requirement already satisfied: psutil>=5.0.0 in /usr/local/lib/python3.7/dist-packages (from wandb->-r /content/pytorch-CycleGAN-and-pix2pix/requirements.txt (line 5)) (5.4.8)\n",
            "Requirement already satisfied: PyYAML in /usr/local/lib/python3.7/dist-packages (from wandb->-r /content/pytorch-CycleGAN-and-pix2pix/requirements.txt (line 5)) (3.13)\n",
            "Requirement already satisfied: sentry-sdk>=1.0.0 in /usr/local/lib/python3.7/dist-packages (from wandb->-r /content/pytorch-CycleGAN-and-pix2pix/requirements.txt (line 5)) (1.5.12)\n",
            "Requirement already satisfied: pathtools in /usr/local/lib/python3.7/dist-packages (from wandb->-r /content/pytorch-CycleGAN-and-pix2pix/requirements.txt (line 5)) (0.1.2)\n",
            "Requirement already satisfied: setproctitle in /usr/local/lib/python3.7/dist-packages (from wandb->-r /content/pytorch-CycleGAN-and-pix2pix/requirements.txt (line 5)) (1.2.3)\n",
            "Requirement already satisfied: setuptools in /usr/local/lib/python3.7/dist-packages (from wandb->-r /content/pytorch-CycleGAN-and-pix2pix/requirements.txt (line 5)) (57.4.0)\n",
            "Requirement already satisfied: python-dateutil>=2.6.1 in /usr/local/lib/python3.7/dist-packages (from wandb->-r /content/pytorch-CycleGAN-and-pix2pix/requirements.txt (line 5)) (2.8.2)\n",
            "Requirement already satisfied: protobuf<4.0dev,>=3.12.0 in /usr/local/lib/python3.7/dist-packages (from wandb->-r /content/pytorch-CycleGAN-and-pix2pix/requirements.txt (line 5)) (3.17.3)\n",
            "Requirement already satisfied: gitdb<5,>=4.0.1 in /usr/local/lib/python3.7/dist-packages (from GitPython>=1.0.0->wandb->-r /content/pytorch-CycleGAN-and-pix2pix/requirements.txt (line 5)) (4.0.9)\n",
            "Requirement already satisfied: smmap<6,>=3.0.1 in /usr/local/lib/python3.7/dist-packages (from gitdb<5,>=4.0.1->GitPython>=1.0.0->wandb->-r /content/pytorch-CycleGAN-and-pix2pix/requirements.txt (line 5)) (5.0.0)\n",
            "Requirement already satisfied: urllib3!=1.25.0,!=1.25.1,<1.26,>=1.21.1 in /usr/local/lib/python3.7/dist-packages (from requests->torchvision>=0.5.0->-r /content/pytorch-CycleGAN-and-pix2pix/requirements.txt (line 2)) (1.24.3)\n",
            "Requirement already satisfied: idna<3,>=2.5 in /usr/local/lib/python3.7/dist-packages (from requests->torchvision>=0.5.0->-r /content/pytorch-CycleGAN-and-pix2pix/requirements.txt (line 2)) (2.10)\n",
            "Requirement already satisfied: certifi>=2017.4.17 in /usr/local/lib/python3.7/dist-packages (from requests->torchvision>=0.5.0->-r /content/pytorch-CycleGAN-and-pix2pix/requirements.txt (line 2)) (2022.5.18.1)\n",
            "Requirement already satisfied: chardet<4,>=3.0.2 in /usr/local/lib/python3.7/dist-packages (from requests->torchvision>=0.5.0->-r /content/pytorch-CycleGAN-and-pix2pix/requirements.txt (line 2)) (3.0.4)\n",
            "Requirement already satisfied: jsonpointer>=1.9 in /usr/local/lib/python3.7/dist-packages (from jsonpatch->visdom>=0.1.8.8->-r /content/pytorch-CycleGAN-and-pix2pix/requirements.txt (line 4)) (2.3)\n"
          ]
        }
      ]
    },
    {
      "cell_type": "code",
      "source": [
        "os.chdir('pytorch-CycleGAN-and-pix2pix/')"
      ],
      "metadata": {
        "id": "S1qbYv60e6PG",
        "colab": {
          "base_uri": "https://localhost:8080/",
          "height": 165
        },
        "outputId": "56b120f3-0da6-4e6d-d0a1-684a3831a843"
      },
      "execution_count": null,
      "outputs": [
        {
          "output_type": "error",
          "ename": "FileNotFoundError",
          "evalue": "ignored",
          "traceback": [
            "\u001b[0;31m---------------------------------------------------------------------------\u001b[0m",
            "\u001b[0;31mFileNotFoundError\u001b[0m                         Traceback (most recent call last)",
            "\u001b[0;32m<ipython-input-13-d5d315ae3fd2>\u001b[0m in \u001b[0;36m<module>\u001b[0;34m()\u001b[0m\n\u001b[0;32m----> 1\u001b[0;31m \u001b[0mos\u001b[0m\u001b[0;34m.\u001b[0m\u001b[0mchdir\u001b[0m\u001b[0;34m(\u001b[0m\u001b[0;34m'pytorch-CycleGAN-and-pix2pix/'\u001b[0m\u001b[0;34m)\u001b[0m\u001b[0;34m\u001b[0m\u001b[0;34m\u001b[0m\u001b[0m\n\u001b[0m",
            "\u001b[0;31mFileNotFoundError\u001b[0m: [Errno 2] No such file or directory: 'pytorch-CycleGAN-and-pix2pix/'"
          ]
        }
      ]
    },
    {
      "cell_type": "code",
      "source": [
        "!bash ./scripts/download_pix2pix_model.sh edges2shoes"
      ],
      "metadata": {
        "id": "78h04VuxaiJy",
        "colab": {
          "base_uri": "https://localhost:8080/"
        },
        "outputId": "4c9622d1-1768-4e1e-9192-6861de3e7e87"
      },
      "execution_count": null,
      "outputs": [
        {
          "output_type": "stream",
          "name": "stdout",
          "text": [
            "Note: available models are edges2shoes, sat2map, map2sat, facades_label2photo, and day2night\n",
            "Specified [edges2shoes]\n",
            "WARNING: timestamping does nothing in combination with -O. See the manual\n",
            "for details.\n",
            "\n",
            "--2022-06-04 18:16:33--  http://efrosgans.eecs.berkeley.edu/pix2pix/models-pytorch/edges2shoes.pth\n",
            "Resolving efrosgans.eecs.berkeley.edu (efrosgans.eecs.berkeley.edu)... 128.32.244.190\n",
            "Connecting to efrosgans.eecs.berkeley.edu (efrosgans.eecs.berkeley.edu)|128.32.244.190|:80... connected.\n",
            "HTTP request sent, awaiting response... 200 OK\n",
            "Length: 217704688 (208M)\n",
            "Saving to: ‘./checkpoints/edges2shoes_pretrained/latest_net_G.pth’\n",
            "\n",
            "./checkpoints/edges 100%[===================>] 207.62M  56.8MB/s    in 4.0s    \n",
            "\n",
            "2022-06-04 18:16:37 (52.0 MB/s) - ‘./checkpoints/edges2shoes_pretrained/latest_net_G.pth’ saved [217704688/217704688]\n",
            "\n"
          ]
        }
      ]
    },
    {
      "cell_type": "markdown",
      "source": [
        "**DataLoader** Only run when needed"
      ],
      "metadata": {
        "id": "5p5BDGl5YCHD"
      }
    },
    {
      "cell_type": "code",
      "source": [
        "!python datasets/combine_A_and_B.py --fold_A /content/drive/MyDrive/Datajoin/A --fold_B  /content/drive/MyDrive/Datajoin/B --fold_AB /content/drive/MyDrive/Datajoin"
      ],
      "metadata": {
        "colab": {
          "base_uri": "https://localhost:8080/"
        },
        "id": "siJSbVx4UfNK",
        "outputId": "12ee1239-dcf5-42d0-c379-0adff5099a1f"
      },
      "execution_count": null,
      "outputs": [
        {
          "output_type": "stream",
          "name": "stdout",
          "text": [
            "[fold_A] =  /content/drive/MyDrive/Datajoin/A\n",
            "[fold_B] =  /content/drive/MyDrive/Datajoin/B\n",
            "[fold_AB] =  /content/drive/MyDrive/Datajoin\n",
            "[num_imgs] =  1000000\n",
            "[use_AB] =  False\n",
            "[no_multiprocessing] =  False\n",
            "split = test, use 116/116 images\n",
            "split = test, number of images = 116\n"
          ]
        }
      ]
    },
    {
      "cell_type": "code",
      "source": [
        "!python datasets/combine_A_and_B.py --fold_A /content/drive/MyDrive/DataFace/A --fold_B /content/drive/MyDrive/DataFace/B --fold_AB /content/drive/MyDrive/DataFace"
      ],
      "metadata": {
        "colab": {
          "base_uri": "https://localhost:8080/"
        },
        "id": "ovkXa6mZ4FCP",
        "outputId": "b4077f52-73aa-4467-e6c0-c3a8d622b5d8"
      },
      "execution_count": null,
      "outputs": [
        {
          "output_type": "stream",
          "name": "stdout",
          "text": [
            "[fold_A] =  /content/drive/MyDrive/DataFace/A\n",
            "[fold_B] =  /content/drive/MyDrive/DataFace/B\n",
            "[fold_AB] =  /content/drive/MyDrive/DataFace\n",
            "[num_imgs] =  1000000\n",
            "[use_AB] =  False\n",
            "[no_multiprocessing] =  False\n",
            "Traceback (most recent call last):\n",
            "  File \"datasets/combine_A_and_B.py\", line 35, in <module>\n",
            "    img_list = os.listdir(img_fold_A)\n",
            "NotADirectoryError: [Errno 20] Not a directory: '/content/drive/MyDrive/DataFace/A/0.jpg'\n"
          ]
        }
      ]
    },
    {
      "cell_type": "markdown",
      "source": [
        "Train"
      ],
      "metadata": {
        "id": "zwSjb7AHty64"
      }
    },
    {
      "cell_type": "markdown",
      "source": [
        "\n",
        "\n",
        "---\n",
        "\n"
      ],
      "metadata": {
        "id": "BVurxcQ2Gt1i"
      }
    },
    {
      "cell_type": "markdown",
      "source": [
        "TRAIN .PY "
      ],
      "metadata": {
        "id": "OAf29J38aMS1"
      }
    },
    {
      "cell_type": "code",
      "source": [
        "# class CustomImageDataset(Dataset):\n",
        "#     def __init__(self, img_dir, transform=None, target_transform=None):\n",
        "#         self.img_dir = img_dir\n",
        "#         self.transform = transform\n",
        "#         self.target_transform = target_transform\n",
        "#     def __len__(self):\n",
        "#         return len(self.img_dir)\n",
        "\n",
        "#     def __getitem__(self, idx):\n",
        "#         img_path = os.path.join(self.img_dir, self.img_labels.iloc[idx, 0])\n",
        "#         image = read_image(img_path)\n",
        "#         label = self.img_labels.iloc[idx, 1]\n",
        "#         if self.transform:\n",
        "#             image = self.transform(image)\n",
        "#         if self.target_transform:\n",
        "#             label = self.target_transform(label)\n",
        "#         return image, label"
      ],
      "metadata": {
        "id": "8s6m4gSZP-ZA"
      },
      "execution_count": null,
      "outputs": []
    },
    {
      "cell_type": "markdown",
      "source": [
        "My pathetic attempt at pix2pix implementation \n",
        "form youtube tutorial"
      ],
      "metadata": {
        "id": "mVFotKrncc6O"
      }
    },
    {
      "cell_type": "code",
      "source": [
        ""
      ],
      "metadata": {
        "id": "N7pSRgWIE2b_"
      },
      "execution_count": null,
      "outputs": []
    },
    {
      "cell_type": "markdown",
      "source": [
        "**CONFIGURATIONS**"
      ],
      "metadata": {
        "id": "0WD9QTc_aX3d"
      }
    },
    {
      "cell_type": "code",
      "source": [
        "!cp /content/drive/MyDrive/Module/config.py /content\n",
        "!cp /content/drive/MyDrive/Module/dataset.py /content\n",
        "!cp /content/drive/MyDrive/Module/discriminator_model.py /content\n",
        "!cp /content/drive/MyDrive/Module/generator_model.py /content\n",
        "!cp /content/drive/MyDrive/Module/utils.py /content"
      ],
      "metadata": {
        "id": "6fMyMm5bze6c"
      },
      "execution_count": null,
      "outputs": []
    },
    {
      "cell_type": "code",
      "source": [
        "import cv2"
      ],
      "metadata": {
        "id": "-WCNIzh2RAAa"
      },
      "execution_count": null,
      "outputs": []
    },
    {
      "cell_type": "code",
      "source": [
        "!pip install -q -U albumentations\n",
        "!echo \"$(pip freeze | grep albumentations) is successfully installed\""
      ],
      "metadata": {
        "colab": {
          "base_uri": "https://localhost:8080/"
        },
        "id": "vGcZpTEs-O5k",
        "outputId": "c31fb938-8901-468c-ad6c-268e30a3c8db"
      },
      "execution_count": null,
      "outputs": [
        {
          "output_type": "stream",
          "name": "stdout",
          "text": [
            "\u001b[K     |████████████████████████████████| 102 kB 6.7 MB/s \n",
            "\u001b[K     |████████████████████████████████| 47.8 MB 1.3 MB/s \n",
            "\u001b[?25halbumentations==1.1.0 is successfully installed\n"
          ]
        }
      ]
    },
    {
      "cell_type": "code",
      "source": [
        "import albumentations \n",
        "from albumentations.pytorch import ToTensorV2"
      ],
      "metadata": {
        "id": "HLsoe_6bLFK_"
      },
      "execution_count": null,
      "outputs": []
    },
    {
      "cell_type": "code",
      "source": [
        "import config"
      ],
      "metadata": {
        "id": "hJupNW6PIOeI"
      },
      "execution_count": null,
      "outputs": []
    },
    {
      "cell_type": "code",
      "source": [
        "import torch\n",
        "import albumentations as A\n",
        "from albumentations.pytorch import ToTensorV2\n",
        "\n",
        "DEVICE = \"cuda\" if torch.cuda.is_available() else \"cpu\"\n",
        "TRAIN_DIR = \"/content/drive/MyDrive/Dataset/train\"\n",
        "VAL_DIR = \"/content/drive/MyDrive/Dataset/Val\"\n",
        "LEARNING_RATE = 2e-4\n",
        "BATCH_SIZE = 5\n",
        "NUM_WORKERS = 2\n",
        "IMAGE_SIZE = 256\n",
        "CHANNELS_IMG = 3\n",
        "L1_LAMBDA = 100\n",
        "LAMBDA_GP = 10\n",
        "NUM_EPOCHS = 500\n",
        "LOAD_MODEL = False\n",
        "SAVE_MODEL = False\n",
        "CHECKPOINT_DISC = \"disc.pth.tar\"\n",
        "CHECKPOINT_GEN = \"gen.pth.tar\"\n",
        "\n",
        "both_transform = A.Compose(\n",
        "    [A.Resize(width=256, height=256),], additional_targets={\"image0\": \"image\"},\n",
        ")\n",
        "\n",
        "transform_only_input = A.Compose(\n",
        "    [\n",
        "        A.HorizontalFlip(p=0.5),\n",
        "        A.ColorJitter(p=0.2),\n",
        "        A.Normalize(mean=[0.5, 0.5, 0.5], std=[0.5, 0.5, 0.5], max_pixel_value=255.0,),\n",
        "        ToTensorV2(),\n",
        "    ]\n",
        ")\n",
        "\n",
        "transform_only_mask = A.Compose(\n",
        "    [\n",
        "        A.Normalize(mean=[0.5, 0.5, 0.5], std=[0.5, 0.5, 0.5], max_pixel_value=255.0,),\n",
        "        ToTensorV2(),\n",
        "    ]\n",
        ")"
      ],
      "metadata": {
        "id": "8tu12rCQaRLU"
      },
      "execution_count": null,
      "outputs": []
    },
    {
      "cell_type": "markdown",
      "source": [
        "**UTiLS**"
      ],
      "metadata": {
        "id": "Pwcfk8c8c8XM"
      }
    },
    {
      "cell_type": "code",
      "source": [
        "import torch\n",
        "import config\n",
        "from torchvision.utils import save_image\n",
        "\n",
        "def save_some_examples(gen, val_loader, epoch, folder):\n",
        "    x, y = next(iter(val_loader))\n",
        "    x, y = x.to(config.DEVICE), y.to(config.DEVICE)\n",
        "    gen.eval()\n",
        "    with torch.no_grad():\n",
        "        y_fake = gen(x)\n",
        "        y_fake = y_fake * 0.5 + 0.5  # remove normalization#\n",
        "        save_image(y_fake, folder + f\"/y_gen_{epoch}.png\")\n",
        "        save_image(x * 0.5 + 0.5, folder + f\"/input_{epoch}.png\")\n",
        "        if epoch == 1:\n",
        "            save_image(y * 0.5 + 0.5, folder + f\"/label_{epoch}.png\")\n",
        "    gen.train()\n",
        "\n",
        "\n",
        "def save_checkpoint(model, optimizer, filename=\"my_checkpoint.pth.tar\"):\n",
        "    print(\"=> Saving checkpoint\")\n",
        "    checkpoint = {\n",
        "        \"state_dict\": model.state_dict(),\n",
        "        \"optimizer\": optimizer.state_dict(),\n",
        "    }\n",
        "    torch.save(checkpoint, filename)\n",
        "\n",
        "\n",
        "def load_checkpoint(checkpoint_file, model, optimizer, lr):\n",
        "    print(\"=> Loading checkpoint\")\n",
        "    checkpoint = torch.load(checkpoint_file, map_location=config.DEVICE)\n",
        "    model.load_state_dict(checkpoint[\"state_dict\"])\n",
        "    optimizer.load_state_dict(checkpoint[\"optimizer\"])\n",
        "\n",
        "    # If we don't do this then it will just have learning rate of old checkpoint\n",
        "    # and it will lead to many hours of debugging \\:\n",
        "    for param_group in optimizer.param_groups:\n",
        "        param_group[\"lr\"] = lr"
      ],
      "metadata": {
        "id": "c0d5UabHc7pt"
      },
      "execution_count": null,
      "outputs": []
    },
    {
      "cell_type": "markdown",
      "source": [
        "**DATASET** **CLASS**"
      ],
      "metadata": {
        "id": "BUSIXh-tafRs"
      }
    },
    {
      "cell_type": "code",
      "source": [
        "import numpy as np\n",
        "import config\n",
        "import os\n",
        "from PIL import Image\n",
        "from torch.utils.data import Dataset, DataLoader\n",
        "from torchvision.utils import save_image\n",
        "\n",
        "\n",
        "class MapDataset(Dataset):\n",
        "    def __init__(self, root_dir):\n",
        "        self.root_dir = root_dir\n",
        "        self.list_files = os.listdir(self.root_dir)\n",
        "\n",
        "    def __len__(self):\n",
        "        return len(self.list_files)\n",
        "\n",
        "    def __getitem__(self, index):\n",
        "        img_file = self.list_files[index]\n",
        "        img_path = os.path.join(self.root_dir, img_file)\n",
        "        image = np.array(Image.open(img_path))\n",
        "        input_image = image[:, :600, :]\n",
        "        target_image = image[:, 600:, :]\n",
        "\n",
        "        augmentations = config.both_transform(image=input_image, image0=target_image)\n",
        "        input_image = augmentations[\"image\"]\n",
        "        target_image = augmentations[\"image0\"]\n",
        "\n",
        "        input_image = config.transform_only_input(image=input_image)[\"image\"]\n",
        "        target_image = config.transform_only_mask(image=target_image)[\"image\"]\n",
        "\n",
        "        return input_image, target_image\n",
        "\n",
        "\n",
        "if __name__ == \"__main__\":\n",
        "    dataset = MapDataset(\"/content/drive/MyDrive/Dataset/train\")\n",
        "    loader = DataLoader(dataset, batch_size=5)\n",
        "    for x, y in loader:\n",
        "        print(x.shape)\n",
        "        save_image(x, \"x.png\")\n",
        "        save_image(y, \"y.png\")\n",
        "     \n",
        "    "
      ],
      "metadata": {
        "id": "kiTPorPAaiL0"
      },
      "execution_count": null,
      "outputs": []
    },
    {
      "cell_type": "markdown",
      "source": [
        "**GENERATOR**"
      ],
      "metadata": {
        "id": "T6rVh6kmcbew"
      }
    },
    {
      "cell_type": "code",
      "source": [
        "import torch\n",
        "import torch.nn as nn\n",
        "\n",
        "\n",
        "class Block(nn.Module):\n",
        "    def __init__(self, in_channels, out_channels, down=True, act=\"relu\", use_dropout=False):\n",
        "        super(Block, self).__init__()\n",
        "        self.conv = nn.Sequential(\n",
        "            nn.Conv2d(in_channels, out_channels, 4, 2, 1, bias=False, padding_mode=\"reflect\")\n",
        "            if down\n",
        "            else nn.ConvTranspose2d(in_channels, out_channels, 4, 2, 1, bias=False),\n",
        "            nn.BatchNorm2d(out_channels),\n",
        "            nn.ReLU() if act == \"relu\" else nn.LeakyReLU(0.2),\n",
        "        )\n",
        "\n",
        "        self.use_dropout = use_dropout\n",
        "        self.dropout = nn.Dropout(0.5)\n",
        "        self.down = down\n",
        "\n",
        "    def forward(self, x):\n",
        "        x = self.conv(x)\n",
        "        return self.dropout(x) if self.use_dropout else x\n",
        "\n",
        "\n",
        "class Generator(nn.Module):\n",
        "    def __init__(self, in_channels=3, features=64):\n",
        "        super().__init__()\n",
        "        self.initial_down = nn.Sequential(\n",
        "            nn.Conv2d(in_channels, features, 4, 2, 1, padding_mode=\"reflect\"),\n",
        "            nn.LeakyReLU(0.2),\n",
        "        )\n",
        "        self.down1 = Block(features, features * 2, down=True, act=\"leaky\", use_dropout=False)\n",
        "        self.down2 = Block(\n",
        "            features * 2, features * 4, down=True, act=\"leaky\", use_dropout=False\n",
        "        )\n",
        "        self.down3 = Block(\n",
        "            features * 4, features * 8, down=True, act=\"leaky\", use_dropout=False\n",
        "        )\n",
        "        self.down4 = Block(\n",
        "            features * 8, features * 8, down=True, act=\"leaky\", use_dropout=False\n",
        "        )\n",
        "        self.down5 = Block(\n",
        "            features * 8, features * 8, down=True, act=\"leaky\", use_dropout=False\n",
        "        )\n",
        "        self.down6 = Block(\n",
        "            features * 8, features * 8, down=True, act=\"leaky\", use_dropout=False\n",
        "        )\n",
        "        self.bottleneck = nn.Sequential(\n",
        "            nn.Conv2d(features * 8, features * 8, 4, 2, 1), nn.ReLU()\n",
        "        )\n",
        "\n",
        "        self.up1 = Block(features * 8, features * 8, down=False, act=\"relu\", use_dropout=True)\n",
        "        self.up2 = Block(\n",
        "            features * 8 * 2, features * 8, down=False, act=\"relu\", use_dropout=True\n",
        "        )\n",
        "        self.up3 = Block(\n",
        "            features * 8 * 2, features * 8, down=False, act=\"relu\", use_dropout=True\n",
        "        )\n",
        "        self.up4 = Block(\n",
        "            features * 8 * 2, features * 8, down=False, act=\"relu\", use_dropout=False\n",
        "        )\n",
        "        self.up5 = Block(\n",
        "            features * 8 * 2, features * 4, down=False, act=\"relu\", use_dropout=False\n",
        "        )\n",
        "        self.up6 = Block(\n",
        "            features * 4 * 2, features * 2, down=False, act=\"relu\", use_dropout=False\n",
        "        )\n",
        "        self.up7 = Block(features * 2 * 2, features, down=False, act=\"relu\", use_dropout=False)\n",
        "        self.final_up = nn.Sequential(\n",
        "            nn.ConvTranspose2d(features * 2, in_channels, kernel_size=4, stride=2, padding=1),\n",
        "            nn.Tanh(),\n",
        "        )\n",
        "\n",
        "    def forward(self, x):\n",
        "        d1 = self.initial_down(x)\n",
        "        d2 = self.down1(d1)\n",
        "        d3 = self.down2(d2)\n",
        "        d4 = self.down3(d3)\n",
        "        d5 = self.down4(d4)\n",
        "        d6 = self.down5(d5)\n",
        "        d7 = self.down6(d6)\n",
        "        bottleneck = self.bottleneck(d7)\n",
        "        up1 = self.up1(bottleneck)\n",
        "        up2 = self.up2(torch.cat([up1, d7], 1))\n",
        "        up3 = self.up3(torch.cat([up2, d6], 1))\n",
        "        up4 = self.up4(torch.cat([up3, d5], 1))\n",
        "        up5 = self.up5(torch.cat([up4, d4], 1))\n",
        "        up6 = self.up6(torch.cat([up5, d3], 1))\n",
        "        up7 = self.up7(torch.cat([up6, d2], 1))\n",
        "        return self.final_up(torch.cat([up7, d1], 1))\n",
        "\n",
        "\n",
        "def test():\n",
        "    x = torch.randn((1, 3, 256, 256))\n",
        "    model = Generator(in_channels=3, features=64)\n",
        "    preds = model(x)\n",
        "    print(preds.shape)\n",
        "\n",
        "\n",
        "if __name__ == \"__main__\":\n",
        "    test()"
      ],
      "metadata": {
        "id": "pv2vf7hpceW4"
      },
      "execution_count": null,
      "outputs": []
    },
    {
      "cell_type": "markdown",
      "source": [
        "**DISCRIMINATOR**"
      ],
      "metadata": {
        "id": "RssmpTBzcjFA"
      }
    },
    {
      "cell_type": "code",
      "source": [
        "import torch\n",
        "import torch.nn as nn\n",
        "\n",
        "\n",
        "class CNNBlock(nn.Module):\n",
        "    def __init__(self, in_channels, out_channels, stride):\n",
        "        super(CNNBlock, self).__init__()\n",
        "        self.conv = nn.Sequential(\n",
        "            nn.Conv2d(\n",
        "                in_channels, out_channels, 4, stride, 1, bias=False, padding_mode=\"reflect\"\n",
        "            ),\n",
        "            nn.BatchNorm2d(out_channels),\n",
        "            nn.LeakyReLU(0.2),\n",
        "        )\n",
        "\n",
        "    def forward(self, x):\n",
        "        return self.conv(x)\n",
        "\n",
        "\n",
        "class Discriminator(nn.Module):\n",
        "    def __init__(self, in_channels=3, features=[64, 128, 256, 512]):\n",
        "        super().__init__()\n",
        "        self.initial = nn.Sequential(\n",
        "            nn.Conv2d(\n",
        "                in_channels * 2,\n",
        "                features[0],\n",
        "                kernel_size=4,\n",
        "                stride=2,\n",
        "                padding=1,\n",
        "                padding_mode=\"reflect\",\n",
        "            ),\n",
        "            nn.LeakyReLU(0.2),\n",
        "        )\n",
        "\n",
        "        layers = []\n",
        "        in_channels = features[0]\n",
        "        for feature in features[1:]:\n",
        "            layers.append(\n",
        "                CNNBlock(in_channels, feature, stride=1 if feature == features[-1] else 2),\n",
        "            )\n",
        "            in_channels = feature\n",
        "\n",
        "        layers.append(\n",
        "            nn.Conv2d(\n",
        "                in_channels, 1, kernel_size=4, stride=1, padding=1, padding_mode=\"reflect\"\n",
        "            ),\n",
        "        )\n",
        "\n",
        "        self.model = nn.Sequential(*layers)\n",
        "\n",
        "    def forward(self, x, y):\n",
        "        x = torch.cat([x, y], dim=1)\n",
        "        x = self.initial(x)\n",
        "        x = self.model(x)\n",
        "        return x\n",
        "\n",
        "\n",
        "def test():\n",
        "    x = torch.randn((1, 3, 256, 256))\n",
        "    y = torch.randn((1, 3, 256, 256))\n",
        "    model = Discriminator(in_channels=3)\n",
        "    preds = model(x, y)\n",
        "    print(model)\n",
        "    print(preds.shape)\n",
        "\n",
        "\n",
        "if __name__ == \"__main__\":\n",
        "    test()"
      ],
      "metadata": {
        "id": "XrKwu7CSclGY"
      },
      "execution_count": null,
      "outputs": []
    },
    {
      "cell_type": "markdown",
      "source": [
        "**bold text**# Train.py"
      ],
      "metadata": {
        "id": "HgSNnJ-PcoQI"
      }
    },
    {
      "cell_type": "code",
      "source": [
        "import torch\n",
        "from utils import save_checkpoint, load_checkpoint, save_some_examples\n",
        "import torch.nn as nn\n",
        "import torch.optim as optim\n",
        "import config\n",
        "from dataset import MapDataset\n",
        "from generator_model import Generator\n",
        "from discriminator_model import Discriminator\n",
        "from torch.utils.data import DataLoader\n",
        "from tqdm import tqdm\n",
        "from torchvision.utils import save_image\n",
        "\n",
        "torch.backends.cudnn.benchmark = True\n",
        "\n",
        "\n",
        "def train_fn(\n",
        "    disc, gen, loader, opt_disc, opt_gen, l1_loss, bce, g_scaler, d_scaler,\n",
        "):\n",
        "    loop = tqdm(loader, leave=True)\n",
        "\n",
        "    for idx, (x, y) in enumerate(loop):\n",
        "        x = x.to(config.DEVICE)\n",
        "        y = y.to(config.DEVICE)\n",
        "\n",
        "        # Train Discriminator\n",
        "        with torch.cuda.amp.autocast():\n",
        "            y_fake = gen(x)\n",
        "            D_real = disc(x, y)\n",
        "            D_real_loss = bce(D_real, torch.ones_like(D_real))\n",
        "            D_fake = disc(x, y_fake.detach())\n",
        "            D_fake_loss = bce(D_fake, torch.zeros_like(D_fake))\n",
        "            D_loss = (D_real_loss + D_fake_loss) / 2\n",
        "\n",
        "        disc.zero_grad()\n",
        "        d_scaler.scale(D_loss).backward()\n",
        "        d_scaler.step(opt_disc)\n",
        "        d_scaler.update()\n",
        "\n",
        "        # Train generator\n",
        "        with torch.cuda.amp.autocast():\n",
        "            D_fake = disc(x, y_fake)\n",
        "            G_fake_loss = bce(D_fake, torch.ones_like(D_fake))\n",
        "            L1 = l1_loss(y_fake, y) * config.L1_LAMBDA\n",
        "            G_loss = G_fake_loss + L1\n",
        "\n",
        "        opt_gen.zero_grad()\n",
        "        g_scaler.scale(G_loss).backward()\n",
        "        g_scaler.step(opt_gen)\n",
        "        g_scaler.update()\n",
        "\n",
        "        if idx % 10 == 0:\n",
        "            loop.set_postfix(\n",
        "                D_real=torch.sigmoid(D_real).mean().item(),\n",
        "                D_fake=torch.sigmoid(D_fake).mean().item(),\n",
        "            )\n",
        "\n",
        "\n",
        "def main():\n",
        "    disc = Discriminator(in_channels=3).to(config.DEVICE)\n",
        "    gen = Generator(in_channels=3, features=64).to(config.DEVICE)\n",
        "    opt_disc = optim.Adam(disc.parameters(), lr=config.LEARNING_RATE, betas=(0.5, 0.999),)\n",
        "    opt_gen = optim.Adam(gen.parameters(), lr=config.LEARNING_RATE, betas=(0.5, 0.999))\n",
        "    BCE = nn.BCEWithLogitsLoss()\n",
        "    L1_LOSS = nn.L1Loss()\n",
        "\n",
        "    if config.LOAD_MODEL:\n",
        "        load_checkpoint(\n",
        "            config.CHECKPOINT_GEN, gen, opt_gen, config.LEARNING_RATE,\n",
        "        )\n",
        "        load_checkpoint(\n",
        "            config.CHECKPOINT_DISC, disc, opt_disc, config.LEARNING_RATE,\n",
        "        )\n",
        "\n",
        "    train_dataset = MapDataset(root_dir=config.TRAIN_DIR)\n",
        "    train_loader = DataLoader(\n",
        "        train_dataset,\n",
        "        batch_size=config.BATCH_SIZE,\n",
        "        shuffle=True,\n",
        "        num_workers=config.NUM_WORKERS,\n",
        "    )\n",
        "    g_scaler = torch.cuda.amp.GradScaler()\n",
        "    d_scaler = torch.cuda.amp.GradScaler()\n",
        "    val_dataset = MapDataset(root_dir=config.VAL_DIR)\n",
        "    val_loader = DataLoader(val_dataset, batch_size=1, shuffle=False)\n",
        "\n",
        "    for epoch in range(config.NUM_EPOCHS):\n",
        "        train_fn(\n",
        "            disc, gen, train_loader, opt_disc, opt_gen, L1_LOSS, BCE, g_scaler, d_scaler,\n",
        "        )\n",
        "\n",
        "        if config.SAVE_MODEL and epoch % 5 == 0:\n",
        "            save_checkpoint(gen, opt_gen, filename=config.CHECKPOINT_GEN)\n",
        "            save_checkpoint(disc, opt_disc, filename=config.CHECKPOINT_DISC)\n",
        "\n",
        "        save_some_examples(gen, val_loader, epoch, folder=\"/content/evaluation\")\n",
        "\n",
        "\n",
        "if __name__ == \"__main__\":\n",
        "    main()\n"
      ],
      "metadata": {
        "colab": {
          "base_uri": "https://localhost:8080/"
        },
        "id": "m2O-wPvNcsEK",
        "outputId": "a0e667cb-3500-477d-b16f-8c7895c0fa57"
      },
      "execution_count": null,
      "outputs": [
        {
          "output_type": "stream",
          "name": "stderr",
          "text": [
            "100%|██████████| 1040/1040 [01:12<00:00, 14.43it/s, D_fake=0.0767, D_real=0.921]\n"
          ]
        },
        {
          "output_type": "stream",
          "name": "stdout",
          "text": [
            "=> Saving checkpoint\n",
            "=> Saving checkpoint\n"
          ]
        },
        {
          "output_type": "stream",
          "name": "stderr",
          "text": [
            "100%|██████████| 1040/1040 [01:09<00:00, 14.98it/s, D_fake=0.158, D_real=0.838]\n",
            "100%|██████████| 1040/1040 [01:09<00:00, 14.97it/s, D_fake=0.0827, D_real=0.991]\n",
            "100%|██████████| 1040/1040 [01:09<00:00, 15.01it/s, D_fake=0.144, D_real=0.992]\n",
            "100%|██████████| 1040/1040 [01:09<00:00, 14.95it/s, D_fake=0.128, D_real=0.962]\n",
            "100%|██████████| 1040/1040 [01:10<00:00, 14.85it/s, D_fake=0.0334, D_real=0.755]\n"
          ]
        },
        {
          "output_type": "stream",
          "name": "stdout",
          "text": [
            "=> Saving checkpoint\n",
            "=> Saving checkpoint\n"
          ]
        },
        {
          "output_type": "stream",
          "name": "stderr",
          "text": [
            "100%|██████████| 1040/1040 [01:09<00:00, 14.93it/s, D_fake=0.0517, D_real=0.984]\n",
            "100%|██████████| 1040/1040 [01:09<00:00, 14.95it/s, D_fake=0.128, D_real=0.992]\n",
            "100%|██████████| 1040/1040 [01:09<00:00, 15.00it/s, D_fake=0.0199, D_real=0.96]\n",
            "100%|██████████| 1040/1040 [01:10<00:00, 14.67it/s, D_fake=0.0211, D_real=0.998]\n"
          ]
        }
      ]
    },
    {
      "cell_type": "code",
      "source": [
        "torch.save(model.state_dict(), PATH)"
      ],
      "metadata": {
        "colab": {
          "base_uri": "https://localhost:8080/",
          "height": 165
        },
        "id": "3bUP5rGUxcL_",
        "outputId": "2cf986f7-decd-4066-a4c9-75468777a486"
      },
      "execution_count": null,
      "outputs": [
        {
          "output_type": "error",
          "ename": "NameError",
          "evalue": "ignored",
          "traceback": [
            "\u001b[0;31m---------------------------------------------------------------------------\u001b[0m",
            "\u001b[0;31mNameError\u001b[0m                                 Traceback (most recent call last)",
            "\u001b[0;32m<ipython-input-23-35cf8529482b>\u001b[0m in \u001b[0;36m<module>\u001b[0;34m()\u001b[0m\n\u001b[0;32m----> 1\u001b[0;31m \u001b[0mtorch\u001b[0m\u001b[0;34m.\u001b[0m\u001b[0msave\u001b[0m\u001b[0;34m(\u001b[0m\u001b[0mmodel\u001b[0m\u001b[0;34m.\u001b[0m\u001b[0mstate_dict\u001b[0m\u001b[0;34m(\u001b[0m\u001b[0;34m)\u001b[0m\u001b[0;34m,\u001b[0m \u001b[0mPATH\u001b[0m\u001b[0;34m)\u001b[0m\u001b[0;34m\u001b[0m\u001b[0;34m\u001b[0m\u001b[0m\n\u001b[0m",
            "\u001b[0;31mNameError\u001b[0m: name 'model' is not defined"
          ]
        }
      ]
    },
    {
      "cell_type": "code",
      "source": [
        ""
      ],
      "metadata": {
        "id": "fTA7JEjcCywJ"
      },
      "execution_count": null,
      "outputs": []
    }
  ]
}